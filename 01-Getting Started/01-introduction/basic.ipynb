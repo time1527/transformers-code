{
 "cells": [
  {
   "cell_type": "markdown",
   "metadata": {},
   "source": [
    "## 实践操作\n",
    "\n",
    "```\n",
    "conda create -n transformers python=3.10 --y\n",
    "pip install -r requirements.txt\n",
    "pip install evaluate gradio optimum sentencepiece\n",
    "pip install jupyterlab scikit-learn pandas matplotlib nltk rouge\n",
    "```\n"
   ]
  }
 ],
 "metadata": {
  "kernelspec": {
   "display_name": "transformers",
   "language": "python",
   "name": "python3"
  },
  "language_info": {
   "codemirror_mode": {
    "name": "ipython",
    "version": 3
   },
   "file_extension": ".py",
   "mimetype": "text/x-python",
   "name": "python",
   "nbconvert_exporter": "python",
   "pygments_lexer": "ipython3",
   "version": "3.9.16"
  },
  "orig_nbformat": 4
 },
 "nbformat": 4,
 "nbformat_minor": 2
}
