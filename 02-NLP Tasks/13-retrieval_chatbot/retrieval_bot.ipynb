{
 "cells": [
  {
   "cell_type": "markdown",
   "metadata": {},
   "source": [
    "# 检索机器人"
   ]
  },
  {
   "cell_type": "markdown",
   "metadata": {},
   "source": [
    "## Step1 读取faq数据"
   ]
  },
  {
   "cell_type": "code",
   "execution_count": 1,
   "metadata": {},
   "outputs": [
    {
     "data": {
      "text/html": [
       "<div>\n",
       "<style scoped>\n",
       "    .dataframe tbody tr th:only-of-type {\n",
       "        vertical-align: middle;\n",
       "    }\n",
       "\n",
       "    .dataframe tbody tr th {\n",
       "        vertical-align: top;\n",
       "    }\n",
       "\n",
       "    .dataframe thead th {\n",
       "        text-align: right;\n",
       "    }\n",
       "</style>\n",
       "<table border=\"1\" class=\"dataframe\">\n",
       "  <thead>\n",
       "    <tr style=\"text-align: right;\">\n",
       "      <th></th>\n",
       "      <th>title</th>\n",
       "      <th>reply</th>\n",
       "    </tr>\n",
       "  </thead>\n",
       "  <tbody>\n",
       "    <tr>\n",
       "      <th>0</th>\n",
       "      <td>在法律中定金与订金的区别订金和定金哪个受</td>\n",
       "      <td>“定金”是指当事人约定由一方向对方给付的，作为债权担保的一定数额的货币，它属于一种法律上的担...</td>\n",
       "    </tr>\n",
       "    <tr>\n",
       "      <th>1</th>\n",
       "      <td>盗窃罪的犯罪客体是什么，盗窃罪的犯罪主体</td>\n",
       "      <td>盗窃罪的客体要件本罪侵犯的客体是公私财物的所有权。侵犯的对象，是国家、集体或个人的财物，一般...</td>\n",
       "    </tr>\n",
       "    <tr>\n",
       "      <th>2</th>\n",
       "      <td>非法微整形机构构成非法经营罪吗</td>\n",
       "      <td>符合要件就有可能。非法经营罪，是指未经许可经营专营、专卖物品或其他限制买卖的物品，买卖进出口...</td>\n",
       "    </tr>\n",
       "    <tr>\n",
       "      <th>3</th>\n",
       "      <td>入室持刀行凶伤人能不能判刑</td>\n",
       "      <td>对于入室持刀伤人涉嫌故意伤害刑事犯罪，一经定罪，故意伤害他人身体的，处三年以下有期徒刑、拘役...</td>\n",
       "    </tr>\n",
       "    <tr>\n",
       "      <th>4</th>\n",
       "      <td>对交通事故责任认定书不服怎么办，交通事故损</td>\n",
       "      <td>事故认定书下发后，如果你对认定不满意，可在接到认定书3日内到上一级公安机关复议。</td>\n",
       "    </tr>\n",
       "  </tbody>\n",
       "</table>\n",
       "</div>"
      ],
      "text/plain": [
       "                   title                                              reply\n",
       "0   在法律中定金与订金的区别订金和定金哪个受  “定金”是指当事人约定由一方向对方给付的，作为债权担保的一定数额的货币，它属于一种法律上的担...\n",
       "1   盗窃罪的犯罪客体是什么，盗窃罪的犯罪主体  盗窃罪的客体要件本罪侵犯的客体是公私财物的所有权。侵犯的对象，是国家、集体或个人的财物，一般...\n",
       "2        非法微整形机构构成非法经营罪吗  符合要件就有可能。非法经营罪，是指未经许可经营专营、专卖物品或其他限制买卖的物品，买卖进出口...\n",
       "3          入室持刀行凶伤人能不能判刑  对于入室持刀伤人涉嫌故意伤害刑事犯罪，一经定罪，故意伤害他人身体的，处三年以下有期徒刑、拘役...\n",
       "4  对交通事故责任认定书不服怎么办，交通事故损           事故认定书下发后，如果你对认定不满意，可在接到认定书3日内到上一级公安机关复议。"
      ]
     },
     "execution_count": 1,
     "metadata": {},
     "output_type": "execute_result"
    }
   ],
   "source": [
    "import pandas as pd\n",
    "\n",
    "data = pd.read_csv(\"./law_faq.csv\")\n",
    "data.head()"
   ]
  },
  {
   "cell_type": "markdown",
   "metadata": {},
   "source": [
    "## Step2 加载模型"
   ]
  },
  {
   "cell_type": "code",
   "execution_count": 2,
   "metadata": {},
   "outputs": [
    {
     "name": "stderr",
     "output_type": "stream",
     "text": [
      "/home/pika/App/miniconda3/envs/transformers/lib/python3.10/site-packages/tqdm/auto.py:21: TqdmWarning: IProgress not found. Please update jupyter and ipywidgets. See https://ipywidgets.readthedocs.io/en/stable/user_install.html\n",
      "  from .autonotebook import tqdm as notebook_tqdm\n"
     ]
    },
    {
     "name": "stdout",
     "output_type": "stream",
     "text": [
      "匹配模型加载成功！\n"
     ]
    }
   ],
   "source": [
    "from dual_model import DualModel\n",
    "\n",
    "# 需要完成前置模型训练\n",
    "dual_model = DualModel.from_pretrained(\n",
    "    \"../12-sentence_similarity/dual_model/checkpoint-500/\"\n",
    ")\n",
    "dual_model = dual_model.cuda()\n",
    "dual_model.eval()\n",
    "print(\"匹配模型加载成功！\")"
   ]
  },
  {
   "cell_type": "code",
   "execution_count": 3,
   "metadata": {},
   "outputs": [
    {
     "data": {
      "text/plain": [
       "BertTokenizerFast(name_or_path='hfl/chinese-macbert-base', vocab_size=21128, model_max_length=1000000000000000019884624838656, is_fast=True, padding_side='right', truncation_side='right', special_tokens={'unk_token': '[UNK]', 'sep_token': '[SEP]', 'pad_token': '[PAD]', 'cls_token': '[CLS]', 'mask_token': '[MASK]'}, clean_up_tokenization_spaces=True),  added_tokens_decoder={\n",
       "\t0: AddedToken(\"[PAD]\", rstrip=False, lstrip=False, single_word=False, normalized=False, special=True),\n",
       "\t100: AddedToken(\"[UNK]\", rstrip=False, lstrip=False, single_word=False, normalized=False, special=True),\n",
       "\t101: AddedToken(\"[CLS]\", rstrip=False, lstrip=False, single_word=False, normalized=False, special=True),\n",
       "\t102: AddedToken(\"[SEP]\", rstrip=False, lstrip=False, single_word=False, normalized=False, special=True),\n",
       "\t103: AddedToken(\"[MASK]\", rstrip=False, lstrip=False, single_word=False, normalized=False, special=True),\n",
       "}"
      ]
     },
     "execution_count": 3,
     "metadata": {},
     "output_type": "execute_result"
    }
   ],
   "source": [
    "from transformers import AutoTokenizer\n",
    "\n",
    "tokenzier = AutoTokenizer.from_pretrained(\"hfl/chinese-macbert-base\")\n",
    "tokenzier"
   ]
  },
  {
   "cell_type": "markdown",
   "metadata": {},
   "source": [
    "## Step3 将问题编码为向量"
   ]
  },
  {
   "cell_type": "code",
   "execution_count": 4,
   "metadata": {},
   "outputs": [
    {
     "name": "stderr",
     "output_type": "stream",
     "text": [
      "100%|██████████| 570/570 [00:14<00:00, 39.14it/s]\n"
     ]
    },
    {
     "data": {
      "text/plain": [
       "(18213, 768)"
      ]
     },
     "execution_count": 4,
     "metadata": {},
     "output_type": "execute_result"
    }
   ],
   "source": [
    "import torch\n",
    "from tqdm import tqdm\n",
    "\n",
    "questions = data[\"title\"].to_list()\n",
    "vectors = []\n",
    "with torch.inference_mode():\n",
    "    for i in tqdm(range(0, len(questions), 32)):\n",
    "        batch_sens = questions[i : i + 32]\n",
    "        inputs = tokenzier(\n",
    "            batch_sens,\n",
    "            return_tensors=\"pt\",\n",
    "            padding=True,\n",
    "            max_length=128,\n",
    "            truncation=True,\n",
    "        )\n",
    "        inputs = {k: v.to(dual_model.device) for k, v in inputs.items()}\n",
    "        vector = dual_model.bert(**inputs)[1]  # pooled output\n",
    "        vectors.append(vector)\n",
    "vectors = torch.concat(vectors, dim=0).cpu().numpy()\n",
    "vectors.shape"
   ]
  },
  {
   "cell_type": "markdown",
   "metadata": {},
   "source": [
    "## Step4 创建索引"
   ]
  },
  {
   "cell_type": "code",
   "execution_count": 5,
   "metadata": {},
   "outputs": [
    {
     "data": {
      "text/plain": [
       "<faiss.swigfaiss_avx2.IndexFlatIP; proxy of <Swig Object of type 'faiss::IndexFlatIP *' at 0x719120cfbd80> >"
      ]
     },
     "execution_count": 5,
     "metadata": {},
     "output_type": "execute_result"
    }
   ],
   "source": [
    "import faiss\n",
    "\n",
    "index = faiss.IndexFlatIP(768)\n",
    "faiss.normalize_L2(vectors)\n",
    "index.add(vectors)\n",
    "index"
   ]
  },
  {
   "cell_type": "markdown",
   "metadata": {},
   "source": [
    "## Step5 对问题进行向量编码"
   ]
  },
  {
   "cell_type": "code",
   "execution_count": 6,
   "metadata": {},
   "outputs": [
    {
     "data": {
      "text/plain": [
       "(1, 768)"
      ]
     },
     "execution_count": 6,
     "metadata": {},
     "output_type": "execute_result"
    }
   ],
   "source": [
    "quesiton = \"寻衅滋事\"\n",
    "with torch.inference_mode():\n",
    "    inputs = tokenzier(\n",
    "        quesiton, return_tensors=\"pt\", padding=True, max_length=128, truncation=True\n",
    "    )\n",
    "    inputs = {k: v.to(dual_model.device) for k, v in inputs.items()}\n",
    "    vector = dual_model.bert(**inputs)[1]\n",
    "    q_vector = vector.cpu().numpy()\n",
    "q_vector.shape"
   ]
  },
  {
   "cell_type": "markdown",
   "metadata": {},
   "source": [
    "## Step6 向量匹配(召回)"
   ]
  },
  {
   "cell_type": "code",
   "execution_count": 7,
   "metadata": {},
   "outputs": [
    {
     "name": "stdout",
     "output_type": "stream",
     "text": [
      "[[  539  7292 17072  7828  6441  4377  1739 10990  9819  8229]]\n"
     ]
    },
    {
     "data": {
      "text/plain": [
       "array(['涉嫌寻衅滋事', '两个轻微伤够寻衅滋事', '聚群斗殴', '打架斗殴处罚条例', '敲诈勒索罪', '打架斗殴',\n",
       "       '民间放高利贷犯法', '容留卖淫罪定义成投资人', '交通事故肇事逃逸', '非法集资大案研究：中晋资本为什么会被定集资诈骗罪'],\n",
       "      dtype=object)"
      ]
     },
     "execution_count": 7,
     "metadata": {},
     "output_type": "execute_result"
    }
   ],
   "source": [
    "faiss.normalize_L2(q_vector)\n",
    "scores, indexes = index.search(q_vector, 10)\n",
    "print(indexes)\n",
    "topk_result = data.values[indexes[0].tolist()]  # 从原始数据取出topk的结果\n",
    "topk_result[:, 0]"
   ]
  },
  {
   "cell_type": "markdown",
   "metadata": {},
   "source": [
    "## Step7 加载交互模型"
   ]
  },
  {
   "cell_type": "code",
   "execution_count": 8,
   "metadata": {},
   "outputs": [
    {
     "name": "stdout",
     "output_type": "stream",
     "text": [
      "模型加载成功！\n"
     ]
    }
   ],
   "source": [
    "from transformers import BertForSequenceClassification\n",
    "\n",
    "# 需要完成前置模型训练\n",
    "corss_model = BertForSequenceClassification.from_pretrained(\n",
    "    \"../12-sentence_similarity/cross_model/checkpoint-500/\"\n",
    ")\n",
    "corss_model = corss_model.cuda()\n",
    "corss_model.eval()\n",
    "print(\"模型加载成功！\")"
   ]
  },
  {
   "cell_type": "markdown",
   "metadata": {},
   "source": [
    "## Step8 最终预测(排序)"
   ]
  },
  {
   "cell_type": "code",
   "execution_count": 9,
   "metadata": {},
   "outputs": [
    {
     "data": {
      "text/plain": [
       "tensor(0, device='cuda:0')"
      ]
     },
     "execution_count": 9,
     "metadata": {},
     "output_type": "execute_result"
    }
   ],
   "source": [
    "canidate = topk_result[:, 0].tolist()  # question\n",
    "ques = [quesiton] * len(canidate)\n",
    "inputs = tokenzier(\n",
    "    ques, canidate, return_tensors=\"pt\", padding=True, max_length=128, truncation=True\n",
    ")\n",
    "inputs = {k: v.to(corss_model.device) for k, v in inputs.items()}\n",
    "with torch.inference_mode():\n",
    "    logits = corss_model(**inputs).logits.squeeze()\n",
    "    result = torch.argmax(logits, dim=-1)\n",
    "result"
   ]
  },
  {
   "cell_type": "code",
   "execution_count": 10,
   "metadata": {},
   "outputs": [
    {
     "data": {
      "text/plain": [
       "('涉嫌寻衅滋事',\n",
       " '说明具有寻衅滋事行为，应受到相应的处罚，行为人情形严重或行为恶劣的涉嫌了寻衅滋事罪。寻衅滋事是指行为人结伙斗殴的、追逐、拦截他人的、强拿硬要或者任意损毁、占用公私财物的、其他寻衅滋事的行为。寻衅滋事罪，是指在公共场所无事生非、起哄闹事，造成公共场所秩序严重混乱的，追逐、拦截、辱骂、恐吓他人，强拿硬要或者任意损毁、占用公私财物，破坏社会秩序，情节严重的行为。对于寻衅滋事行为的处罚：1、《中华人*共和国治安管理处罚法》第二十六条规定，有下列行为之一的，处五日以上十日以下拘留，可以并处五百元以下罚款;情节较重的，处十日以上十五日以下拘留，可以并处一千元以下罚款:(一)结伙斗殴的;(二)追逐、拦截他人的;(三)强拿硬要或者任意损毁、占用公私财物的;(四)其他寻衅滋事行为;2、《中华人*共和国刑法》第二百九十三条有下列寻衅滋事行为之一，破坏社会秩序的，处五年以下有期徒刑、拘役或者管制:(一)随意殴打他人，情节恶劣的;(二)追逐、拦截、辱骂、恐吓他人，情节恶劣的;(三)强拿硬要或者任意损毁、占用公私财物，情节严重的;(四)在公共场所起哄闹事。造成公共场所秩序严重混乱的。纠集他人多次实施前款行为，严重破坏社会秩序的，处五年以上十年以下有期徒刑，可以并处罚金。3、最*人*法*和最*人*检**《关于办理寻衅滋事案件的司法解释》为依法惩治寻衅滋事犯罪，维护社会秩序，最*人*法*会*最*人*检**根据《中华人*共和国刑法》的有关规定，就办理寻衅滋事刑事案件适用法律的若干问题司法解释如下:第一条行为人为寻求刺激、发泄情绪、逞强耍横等，无事生非，实施刑法第二百九十三条规定的行为的，应当认定为\"寻衅滋事\"。行为人因日常生活中的偶发矛盾纠纷，借故生非，实施刑法第二百九十三条规定的行为的，应当认定为\"寻衅滋事\"，但矛盾系由被害人故意引发或者被害人对矛盾激化负有主要责任的除外。行为人因婚恋、家庭、邻里、债务等纠纷，实施殴打、辱骂、恐吓他人或者损毁、占用他人财物等行为的，一般不认定为\"寻衅滋事\"，但经有关部门批评制止或者处理处罚后，继续实施前列行为，破坏社会秩序的除外。第二条随意殴打他人，破坏社会秩序，具有下列情形之一的，应当认定为刑法第二百九十三条第一款第一项规定的\"情节恶劣\":1、致一人以上轻伤或者二人以上轻微伤的;2、引起他人精神失常、自杀等严重后果的;3、多次随意殴打他人的;4、持凶器随意殴打他人的;5、随意殴打精神病人、残疾人、流浪乞讨人员、老年人、孕妇、未成年人，造成恶劣社会影响的;6、在公共场所随意殴打他人，造成公共场所秩序严重混乱的;7、其他情节恶劣的情形。第三条追逐、拦截、辱骂、恐吓他人，破坏社会秩序，具有下列情形之一的，应当认定为刑法第二百九十三条第一款第二项规定的\"情节恶劣\":1、多次追逐、拦截、辱骂、恐吓他人，造成恶劣社会影响的;2、持凶器追逐、拦截、辱骂、恐吓他人的;3、追逐、拦截、辱骂、恐吓精神病人、残疾人、流浪乞讨人员、老年人、孕妇、未成年人，造成恶劣社会影响的;4、引起他人精神失常、自杀等严重后果的;5、严重影响他人的工作、生活、生产、经营的;6、其他情节恶劣的情形。第四条强拿硬要或者任意损毁、占用公私财物，破坏社会秩序，具有下列情形之一的，应当认定为刑法第二百九十三条第一款第三项规定的\"情节严重\":1、强拿硬要公私财物价值一千元以上，或者任意损毁、占用公私财物价值二千元以上的;2、多次强拿硬要或者任意损毁、占用公私财物，造成恶劣社会影响的;3、强拿硬要或者任意损毁、占用精神病人、残疾人、流浪乞讨人员、老年人、孕妇、未成年人的财物，造成恶劣社会影响的;4、引起他人精神失常、自杀等严重后果的;5、严重影响他人的工作、生活、生产、经营的;6、其他情节严重的情形。第五条在车站、码头、机场、医*、商场、公园、影剧*、展览会、运动场或者其他公共场所起哄闹事，应当根据公共场所的性质、公共活动的重要程度、公共场所的人数、起哄闹事的时间、公共场所受影响的范围与程度等因素，综合判断是否\"造成公共场所秩序严重混乱\"。第六条纠集他人三次以上实施寻衅滋事犯罪，未经处理的，应当依照刑法第二百九十三条第二款的规定处罚。第七条实施寻衅滋事行为，*时符合寻衅滋事罪和故意杀人罪、故意伤害罪、故意毁坏财物罪、敲诈勒索罪、抢夺罪、抢劫罪等罪的构成要件的，依照处罚较重的犯罪定罪处罚。第八条行为人认罪、悔罪，积极赔偿被害人损失或者取得被害人谅解的，可以从轻处罚;犯罪情节轻微的，可以不起诉或者免予刑事处罚。')"
      ]
     },
     "execution_count": 10,
     "metadata": {},
     "output_type": "execute_result"
    }
   ],
   "source": [
    "canidate_answer = topk_result[:, 1].tolist()  # answer\n",
    "match_quesiton = canidate[result.item()]\n",
    "final_answer = canidate_answer[result.item()]\n",
    "match_quesiton, final_answer"
   ]
  },
  {
   "cell_type": "code",
   "execution_count": 11,
   "metadata": {},
   "outputs": [
    {
     "data": {
      "text/plain": [
       "array([['涉嫌寻衅滋事',\n",
       "        '说明具有寻衅滋事行为，应受到相应的处罚，行为人情形严重或行为恶劣的涉嫌了寻衅滋事罪。寻衅滋事是指行为人结伙斗殴的、追逐、拦截他人的、强拿硬要或者任意损毁、占用公私财物的、其他寻衅滋事的行为。寻衅滋事罪，是指在公共场所无事生非、起哄闹事，造成公共场所秩序严重混乱的，追逐、拦截、辱骂、恐吓他人，强拿硬要或者任意损毁、占用公私财物，破坏社会秩序，情节严重的行为。对于寻衅滋事行为的处罚：1、《中华人*共和国治安管理处罚法》第二十六条规定，有下列行为之一的，处五日以上十日以下拘留，可以并处五百元以下罚款;情节较重的，处十日以上十五日以下拘留，可以并处一千元以下罚款:(一)结伙斗殴的;(二)追逐、拦截他人的;(三)强拿硬要或者任意损毁、占用公私财物的;(四)其他寻衅滋事行为;2、《中华人*共和国刑法》第二百九十三条有下列寻衅滋事行为之一，破坏社会秩序的，处五年以下有期徒刑、拘役或者管制:(一)随意殴打他人，情节恶劣的;(二)追逐、拦截、辱骂、恐吓他人，情节恶劣的;(三)强拿硬要或者任意损毁、占用公私财物，情节严重的;(四)在公共场所起哄闹事。造成公共场所秩序严重混乱的。纠集他人多次实施前款行为，严重破坏社会秩序的，处五年以上十年以下有期徒刑，可以并处罚金。3、最*人*法*和最*人*检**《关于办理寻衅滋事案件的司法解释》为依法惩治寻衅滋事犯罪，维护社会秩序，最*人*法*会*最*人*检**根据《中华人*共和国刑法》的有关规定，就办理寻衅滋事刑事案件适用法律的若干问题司法解释如下:第一条行为人为寻求刺激、发泄情绪、逞强耍横等，无事生非，实施刑法第二百九十三条规定的行为的，应当认定为\"寻衅滋事\"。行为人因日常生活中的偶发矛盾纠纷，借故生非，实施刑法第二百九十三条规定的行为的，应当认定为\"寻衅滋事\"，但矛盾系由被害人故意引发或者被害人对矛盾激化负有主要责任的除外。行为人因婚恋、家庭、邻里、债务等纠纷，实施殴打、辱骂、恐吓他人或者损毁、占用他人财物等行为的，一般不认定为\"寻衅滋事\"，但经有关部门批评制止或者处理处罚后，继续实施前列行为，破坏社会秩序的除外。第二条随意殴打他人，破坏社会秩序，具有下列情形之一的，应当认定为刑法第二百九十三条第一款第一项规定的\"情节恶劣\":1、致一人以上轻伤或者二人以上轻微伤的;2、引起他人精神失常、自杀等严重后果的;3、多次随意殴打他人的;4、持凶器随意殴打他人的;5、随意殴打精神病人、残疾人、流浪乞讨人员、老年人、孕妇、未成年人，造成恶劣社会影响的;6、在公共场所随意殴打他人，造成公共场所秩序严重混乱的;7、其他情节恶劣的情形。第三条追逐、拦截、辱骂、恐吓他人，破坏社会秩序，具有下列情形之一的，应当认定为刑法第二百九十三条第一款第二项规定的\"情节恶劣\":1、多次追逐、拦截、辱骂、恐吓他人，造成恶劣社会影响的;2、持凶器追逐、拦截、辱骂、恐吓他人的;3、追逐、拦截、辱骂、恐吓精神病人、残疾人、流浪乞讨人员、老年人、孕妇、未成年人，造成恶劣社会影响的;4、引起他人精神失常、自杀等严重后果的;5、严重影响他人的工作、生活、生产、经营的;6、其他情节恶劣的情形。第四条强拿硬要或者任意损毁、占用公私财物，破坏社会秩序，具有下列情形之一的，应当认定为刑法第二百九十三条第一款第三项规定的\"情节严重\":1、强拿硬要公私财物价值一千元以上，或者任意损毁、占用公私财物价值二千元以上的;2、多次强拿硬要或者任意损毁、占用公私财物，造成恶劣社会影响的;3、强拿硬要或者任意损毁、占用精神病人、残疾人、流浪乞讨人员、老年人、孕妇、未成年人的财物，造成恶劣社会影响的;4、引起他人精神失常、自杀等严重后果的;5、严重影响他人的工作、生活、生产、经营的;6、其他情节严重的情形。第五条在车站、码头、机场、医*、商场、公园、影剧*、展览会、运动场或者其他公共场所起哄闹事，应当根据公共场所的性质、公共活动的重要程度、公共场所的人数、起哄闹事的时间、公共场所受影响的范围与程度等因素，综合判断是否\"造成公共场所秩序严重混乱\"。第六条纠集他人三次以上实施寻衅滋事犯罪，未经处理的，应当依照刑法第二百九十三条第二款的规定处罚。第七条实施寻衅滋事行为，*时符合寻衅滋事罪和故意杀人罪、故意伤害罪、故意毁坏财物罪、敲诈勒索罪、抢夺罪、抢劫罪等罪的构成要件的，依照处罚较重的犯罪定罪处罚。第八条行为人认罪、悔罪，积极赔偿被害人损失或者取得被害人谅解的，可以从轻处罚;犯罪情节轻微的，可以不起诉或者免予刑事处罚。'],\n",
       "       ['两个轻微伤够寻衅滋事',\n",
       "        '涉嫌寻衅滋事罪，要看有没有以下行为：随意殴打他人，情节恶劣的;追逐、拦截、辱骂、恐吓他人，情节恶劣的;强拿硬要或者任意损毁、占用公私财物，情节严重的;在公共场所起哄闹事，造成公共场所秩序严重混乱的。法律规定：《中华人民共和国刑法》第二百九十三条【寻衅滋事罪】有下列寻衅滋事行为之一，破坏社会秩序的，处五年以下有期徒刑、拘役或者管制：(一)随意殴打他人，情节恶劣的;(二)追逐、拦截、辱骂、恐吓他人，情节恶劣的;(三)强拿硬要或者任意损毁、占用公私财物，情节严重的;(四)在公共场所起哄闹事，造成公共场所秩序严重混乱的。纠集他人多次实施前款行为，严重破坏社会秩序的，处五年以上十年以下有期徒刑，可以并处罚金。'],\n",
       "       ['聚群斗殴',\n",
       "        '打架斗殴违法，如果致人轻伤，则涉嫌故意伤害罪。《刑法》：第二百三十四条故意伤害他人身体的，处三年以下有期徒刑、拘役或者管制。犯前款罪的，致人重伤的，处三年以上十年以下有期徒刑；致人死亡或者以特别残忍手段致人重伤造成严重残疾的，处十年以上有期徒刑、无期徒刑或者死刑。本法另有规定高的，依照规定。'],\n",
       "       ['打架斗殴处罚条例',\n",
       "        '《中华人民共和国治安管理处罚法》第四十三条殴打他人的，或者故意伤害他人身体的，处五日以上十日以下拘留，并处二百元以上五百元以下罚款;情节较轻的，处五日以下拘留或者五百元以下罚款。有下列情形之一的，处十日以上十五日以下拘留，并处五百元以上一千元以下罚款：(一)结伙殴打、伤害他人的;(二)殴打、伤害残疾人、孕妇、不满十四周岁的人或者六十周岁以上的人的;(三)多次殴打、伤害他人或者一次殴打、伤害多人的。'],\n",
       "       ['敲诈勒索罪',\n",
       "        '根据《中华人民共和国刑法》第二百七十四条规定，敲诈勒索罪是指以非法占有为目的，对被害人使用威胁或要挟的方法，强行索要公私财物的行为。我国《刑法》第二百七十四条敲诈勒索公私财物，数额较大或者多次敲诈勒索的，处三年以下有期徒刑、拘役或者管制，并处或者单处罚金；数额巨大或者有其他严重情节的，处三年以上十年以下有期徒刑，并处罚金；数额特别巨大或者有其他特别严重情节的，处十年以上有期徒刑，并处罚金。'],\n",
       "       ['打架斗殴',\n",
       "        '民法通则、治安管理处罚法、刑法分别对打架斗殴的后果、情节不同分别使用的法条，请对应了解：《中华人民共和国民法通则》第一百一十九条侵害公民身体造成伤害的，应当赔偿医疗费、因误工减少的收入、残废者生活补助费等费用；造成死亡的，并应当支付丧葬费、死者生前扶养的人必要的生活费等费用。《中华人民共和国治安管理处罚法》第二十六条有下列行为之一的，处五日以上十日以下拘留，可以并处五百元以下罚款；情节较重的，处十日以上十五日以下拘留，可以并处一千元以下罚款：（一）结伙斗殴的；（二）追逐、拦截他人的；（三）强拿硬要或者任意损毁、占用公私财物的；（四）其他寻衅滋事行为。第四十三条殴打他人的，或者故意伤害他人身体的，处五日以上十日以下拘留，并处二百元以上五百元以下罚款；情节较轻的，处五日以下拘留或者五百元以下罚款。有下列情形之一的，处十日以上十五日以下拘留，并处五百元以上一千元以下罚款：（一）结伙殴打、伤害他人的；（二）殴打、伤害残疾人、孕妇、不满十四周岁的人或者六十周岁以上的人的；（三）多次殴打、伤害他人或者一次殴打、伤害多人的。《中华人民共和国刑法》第二百三十四条故意伤害他人身体的，处三年以下有期徒刑、拘役或者管制。犯前款罪，致人重伤的，处三年以上十年以下有期徒刑；致人死亡或者以特别残忍手段致人重伤造成严重残疾的，处十年以上有期徒刑、无期徒刑或者死刑。本法另有规定的，依照规定。'],\n",
       "       ['民间放高利贷犯法',\n",
       "        '民间借贷是合法的在法律上认定的高利。贷是指超过银行同期基准利率的4倍，也就是产生法律纠纷时支持同期基准利率四倍以内的利率水平，超过银行同期基准利率的4倍，即为高利。贷，不受法律保护。因为不同期限的基准利率不同，高利，贷的法律认定还与期限相关。同期基准利率是指中央银行公布的基准利率，如一年期，基准利率为6%，4倍为24%，即超过24%为法律认定的高利，贷。就一年期来说，1####元，年利息不超过24%*1####=24##元不算高，利贷。'],\n",
       "       ['容留卖淫罪定义成投资人',\n",
       "        '根据中*人*共*国刑法第三百五十九条的规定，引诱、容留、介绍卖淫罪是指以金钱、物质或者其他利益为手段，诱使他人卖淫，或者为他人卖淫提供场所，或者为卖淫的人与嫖客牵线搭桥的行为。刑法条文第三百五十九条第一款引诱、容留、介绍他人卖淫的，处五年以下有期徒刑、拘役或者管制，并处罚金;情节严重的，处五年以上有期徒刑，并处罚金。第三百六十一条旅馆业、饮食服务业、文化娱乐业、出租汽车业等单位的人员，利用本单位的条件，组织、强迫、引诱、容留、介绍他人卖淫的，依照本法第三百五十八条、第三百五十九条的规定定罪处罚。前款所列单位的主要负责人，犯前款罪的，从重处罚。处罚标准根据刑法第359条第1款之规定，犯本罪的，处五年以下有期徒刑、拘役或者管制，并处罚金；情节严重的，处五年以上有期徒刑，并处罚金。加重处罚事由犯引诱、容留、介绍卖淫罪而情节严重的，一般有以下几种情形：(一)多次引诱、容留、介绍他人卖淫的;(二)引诱、容留、介绍多人卖淫的;(三)引诱、容留、介绍明知是有严重性病的人卖淫的;(四)容留、介绍不满十四岁的幼女卖淫的;(五)引诱、容留、介绍他人卖淫具有其他严重情节的。'],\n",
       "       ['交通事故肇事逃逸',\n",
       "        '交通事故逃逸是指行为人在发生交通事故后，为逃避法律追究而逃跑的行为。事故当事人认为自己没有责任而驶离现场、报案后不履行现场听候处理义务、弃车离开事故现场后又返回等8种情况将被认定为交通肇事逃逸。1．交通肇事后逃逸或者有其他特别恶劣情节的，处3年以上7年以下有期徒刑。所谓“交通肇事后逃逸”，《解释》第3条规定，是指行为人具有本解释第2条第1款规定和第2款第（1）至（5）项规定的情形之一，在发生交通事故后，为逃避法律追究而逃跑的行为。这里要注意对“交通肇事后逃逸”的认定，首先，交通肇事逃逸的前提条件是“为逃避法律追究”，其次，交通肇事逃逸并没有时间和场所的限定，不应仅理解为“逃离事故现场”，对于肇事后未逃离（或未能逃离）事故现场，而是在将伤者送至医院后或者等待交通管理部门处理的时候逃跑的，也应视为“交通肇事后逃逸”。所谓“其他特别恶劣情节”，《解释》第4条规定：交通肇事具有下列情形之一的，属于“有其他特别恶劣情节”：（1）死亡二人以上或者重伤五人以上，负事故全部或者主要责任的；（2）死亡六人以上，负事故同等责任的；（3）造成公共财产或者他人财产直接损失，负事故全部或者主要责任，无能力赔偿数额在六十万元以上的。2、因交通肇事逃逸致人死亡的，处7年以上有期徒刑。根据《解释》，“因交通肇事逃逸致人死亡”，是指行为人在交通肇事后为逃避法律追究而逃跑，致使被害人因得不到救助而死亡的情形。但刑法理论上对“因交通肇事逃逸致人死亡”形成了诸多不同的观点。本书认为，“因交通肇事逃逸致人死亡”，的心理态度应限于过失，因为交通肇事罪是一种过失犯罪，为保持犯罪构成的纯洁性，其加重构成的心理态度也应是过失。故《解释》规定：行为人在交通肇事后为逃避法律追究，将被害人带离事故现场后隐藏或者遗弃，致使被害人无法得到救助而死亡或者严重残疾的，应当分别依照刑法第232条、第234条第2款的规定，以故意杀人罪或者故意伤害罪定罪处罚。'],\n",
       "       ['非法集资大案研究：中晋资本为什么会被定集资诈骗罪',\n",
       "        '根据《中华人民共和国刑法》第一百九十二条规定，集资诈骗罪是指以非法占有为目的，违反有关金融法律、法规的规定，使用诈骗方法进行非法集资，扰乱国家正常金融秩序，侵犯公私财产所有权，且数额较大的行为。集资诈骗罪中的“非法占有”应理解为“非法所有”。从这一概念可以看出本罪是目的犯、法定犯、数额犯、结果犯。本罪的主体是一般主体，任何达到刑事责任年龄、具有刑事责任能力的自然人均可构成本罪。依本节第200条的规定，单位也可以成为本罪主体。在通常情况下，这种目的具体表现为将非法募集的资金的所有权转归自己所有、或任意挥霍，或占有资金后携款潜逃等。']],\n",
       "      dtype=object)"
      ]
     },
     "execution_count": 11,
     "metadata": {},
     "output_type": "execute_result"
    }
   ],
   "source": [
    "topk_result"
   ]
  }
 ],
 "metadata": {
  "kernelspec": {
   "display_name": "transformers",
   "language": "python",
   "name": "python3"
  },
  "language_info": {
   "codemirror_mode": {
    "name": "ipython",
    "version": 3
   },
   "file_extension": ".py",
   "mimetype": "text/x-python",
   "name": "python",
   "nbconvert_exporter": "python",
   "pygments_lexer": "ipython3",
   "version": "3.10.16"
  },
  "orig_nbformat": 4
 },
 "nbformat": 4,
 "nbformat_minor": 2
}
